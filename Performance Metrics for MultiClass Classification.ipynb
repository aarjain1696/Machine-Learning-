{
 "cells": [
  {
   "cell_type": "code",
   "execution_count": 1,
   "metadata": {},
   "outputs": [],
   "source": [
    "# importing metrics library from sklearn\n",
    "from sklearn import metrics"
   ]
  },
  {
   "cell_type": "code",
   "execution_count": 2,
   "metadata": {},
   "outputs": [],
   "source": [
    "C = 'cats'\n",
    "D = 'dogs'\n",
    "F = 'Fox'"
   ]
  },
  {
   "cell_type": "code",
   "execution_count": 6,
   "metadata": {},
   "outputs": [
    {
     "name": "stdout",
     "output_type": "stream",
     "text": [
      "[[4 1 2]\n",
      " [1 5 1]\n",
      " [2 0 6]]\n",
      "              precision    recall  f1-score   support\n",
      "\n",
      "         Fox       0.57      0.57      0.57         7\n",
      "        cats       0.83      0.71      0.77         7\n",
      "        dogs       0.67      0.75      0.71         8\n",
      "\n",
      "    accuracy                           0.68        22\n",
      "   macro avg       0.69      0.68      0.68        22\n",
      "weighted avg       0.69      0.68      0.68        22\n",
      "\n"
     ]
    }
   ],
   "source": [
    "# Examples\n",
    "# Sample output actual Y and Predicted Y\n",
    "Y = [C,C,C,C,C,C,C, F,F,F,F,F,F,F, D,D,D,D,D,D,D,D]\n",
    "\n",
    "Y_pred = [C,C,D,F,C,C,C,C,F,F,F,D,D,F,F,F,D,D,D,D,D,D]\n",
    "\n",
    "print(metrics.confusion_matrix(Y, Y_pred))\n",
    "\n",
    "print(metrics.classification_report(Y, Y_pred))"
   ]
  },
  {
   "cell_type": "code",
   "execution_count": null,
   "metadata": {},
   "outputs": [],
   "source": []
  }
 ],
 "metadata": {
  "kernelspec": {
   "display_name": "Python 3.7 (tensorflow)",
   "language": "python",
   "name": "tensorflow"
  },
  "language_info": {
   "codemirror_mode": {
    "name": "ipython",
    "version": 3
   },
   "file_extension": ".py",
   "mimetype": "text/x-python",
   "name": "python",
   "nbconvert_exporter": "python",
   "pygments_lexer": "ipython3",
   "version": "3.8.3"
  }
 },
 "nbformat": 4,
 "nbformat_minor": 4
}
