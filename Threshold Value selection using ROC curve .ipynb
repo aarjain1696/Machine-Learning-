{
 "cells": [
  {
   "cell_type": "code",
   "execution_count": 1,
   "metadata": {},
   "outputs": [],
   "source": [
    "## ROC and AUC\n",
    "## AUC -  Area Under the curve\n",
    "## ROC -  Reciever Operating Characteristic curve - Shows a graph of performance of the classification model for all classification threshold"
   ]
  },
  {
   "cell_type": "code",
   "execution_count": 2,
   "metadata": {},
   "outputs": [],
   "source": [
    "# AUC should be greater than imaginary slope 1 line i.e. straight line passing through 0,0 and 1,1\n",
    "# Actual thresold depends on the domain and importance of True positive rate and False positive rate \n",
    "# The curve is plot between True Positive Rate and False Positive Rate"
   ]
  },
  {
   "cell_type": "code",
   "execution_count": 10,
   "metadata": {},
   "outputs": [],
   "source": [
    "# Importing libraries \n",
    "import numpy as np\n",
    "import pandas as pd\n",
    "import matplotlib.pyplot as plt\n",
    "%matplotlib inline\n",
    "import seaborn as sns\n",
    "from sklearn.datasets import make_classification # create some random dataset\n",
    "from sklearn.model_selection import train_test_split\n"
   ]
  },
  {
   "cell_type": "code",
   "execution_count": 11,
   "metadata": {},
   "outputs": [],
   "source": [
    "# Creating the dataset\n",
    "# Spliting the dataset into X and Y\n",
    "X, Y = make_classification(n_samples = 2000, n_classes = 2, weights = [1,1], random_state = 1)\n",
    "# n_samples = number of records\n",
    "# n_classes = o/p categories, 2 - binary \n",
    "# weights = balancing of the dataset [1,1] = balanced"
   ]
  },
  {
   "cell_type": "code",
   "execution_count": 12,
   "metadata": {},
   "outputs": [
    {
     "data": {
      "text/plain": [
       "(2000, 20)"
      ]
     },
     "execution_count": 12,
     "metadata": {},
     "output_type": "execute_result"
    }
   ],
   "source": [
    "X.shape"
   ]
  },
  {
   "cell_type": "code",
   "execution_count": 13,
   "metadata": {},
   "outputs": [
    {
     "data": {
      "text/plain": [
       "(2000,)"
      ]
     },
     "execution_count": 13,
     "metadata": {},
     "output_type": "execute_result"
    }
   ],
   "source": [
    "Y.shape"
   ]
  },
  {
   "cell_type": "code",
   "execution_count": 14,
   "metadata": {},
   "outputs": [],
   "source": [
    "# Creating train and test datasets\n",
    "Xtrain, Xtest, Ytrain, Ytest = train_test_split(X, Y, test_size = 0.3, random_state = 1)"
   ]
  },
  {
   "cell_type": "code",
   "execution_count": 17,
   "metadata": {},
   "outputs": [
    {
     "name": "stdout",
     "output_type": "stream",
     "text": [
      "Random Forest Train rco-auc: 1.0\n",
      "Random Forest Test roc-auc: 0.981388888888889\n"
     ]
    }
   ],
   "source": [
    "## Random Forests\n",
    "# Applying Random Forest Classification\n",
    "from sklearn.ensemble import RandomForestClassifier\n",
    "from sklearn.metrics import roc_curve\n",
    "from sklearn.metrics import roc_auc_score\n",
    "\n",
    "# Building the model\n",
    "rf_model = RandomForestClassifier()\n",
    "rf_model.fit(Xtrain, Ytrain)\n",
    "\n",
    "# predicting the output probabilities \n",
    "Xtrain_pred = rf_model.predict_proba(Xtrain)\n",
    "print('Random Forest Train rco-auc: {}'.format(roc_auc_score(Ytrain, Xtrain_pred[:, 1]))) # Picking the prob for 0 \n",
    "Xtest_pred = rf_model.predict_proba(Xtest)\n",
    "print('Random Forest Test roc-auc: {}'.format(roc_auc_score(Ytest, Xtest_pred[:, 1])))"
   ]
  },
  {
   "cell_type": "code",
   "execution_count": 19,
   "metadata": {},
   "outputs": [
    {
     "name": "stdout",
     "output_type": "stream",
     "text": [
      "Ada Boost Train rco-auc: 0.9975081174960356\n",
      "Ada Boost Test rco-auc: 0.9826111111111111\n"
     ]
    }
   ],
   "source": [
    "## Adaboost Classifier\n",
    "from sklearn.ensemble import AdaBoostClassifier \n",
    "\n",
    "# Building the model\n",
    "adb_model = AdaBoostClassifier()\n",
    "adb_model.fit(Xtrain, Ytrain)\n",
    "\n",
    "# Predicting the o/p probabilites\n",
    "Xtrain_pred_2 = adb_model.predict_proba(Xtrain)\n",
    "print('Ada Boost Train rco-auc: {}'.format(roc_auc_score(Ytrain, Xtrain_pred_2[:, 1])))\n",
    "\n",
    "Xtest_pred_2 = adb_model.predict_proba(Xtest)\n",
    "print('Ada Boost Test rco-auc: {}'.format(roc_auc_score(Ytest, Xtest_pred_2[:, 1])))\n"
   ]
  },
  {
   "cell_type": "code",
   "execution_count": 20,
   "metadata": {},
   "outputs": [
    {
     "name": "stdout",
     "output_type": "stream",
     "text": [
      "Ada Boost Train rco-auc: 1.0\n",
      "Ada Boost Test rco-auc: 0.9083333333333333\n"
     ]
    }
   ],
   "source": [
    "## Decision Tree\n",
    "from sklearn.tree import DecisionTreeClassifier\n",
    "\n",
    "# Building the model\n",
    "dc_model = DecisionTreeClassifier()\n",
    "dc_model.fit(Xtrain, Ytrain)\n",
    "\n",
    "# Predicting o/p probabilites \n",
    "Xtrain_pred_3 = dc_model.predict_proba(Xtrain)\n",
    "print('Decision Tree Train rco-auc: {}'.format(roc_auc_score(Ytrain, Xtrain_pred_3[:, 1])))\n",
    "\n",
    "Xtest_pred_3 = dc_model.predict_proba(Xtest)\n",
    "print('Decision Tree Test rco-auc: {}'.format(roc_auc_score(Ytest, Xtest_pred_3[:, 1])))"
   ]
  },
  {
   "cell_type": "code",
   "execution_count": 24,
   "metadata": {},
   "outputs": [
    {
     "name": "stdout",
     "output_type": "stream",
     "text": [
      "Logistic Regression Train rco-auc: 0.9863568922694498\n",
      "Logistic Regression Test rco-auc: 0.9885777777777777\n"
     ]
    }
   ],
   "source": [
    "## Logistic Regression\n",
    "from sklearn.linear_model import LogisticRegression\n",
    "\n",
    "# Building the model\n",
    "log_model = LogisticRegression()\n",
    "log_model.fit(Xtrain, Ytrain)\n",
    "\n",
    "# Predicting output probabilites\n",
    "Xtrain_pred_4 = log_model.predict_proba(Xtrain)\n",
    "print('Logistic Regression Train rco-auc: {}'.format(roc_auc_score(Ytrain, Xtrain_pred_4[:, 1])))\n",
    "\n",
    "Xtest_pred_4 = log_model.predict_proba(Xtest)\n",
    "print('Logistic Regression Test rco-auc: {}'.format(roc_auc_score(Ytest, Xtest_pred_4[:, 1])))"
   ]
  },
  {
   "cell_type": "code",
   "execution_count": 25,
   "metadata": {},
   "outputs": [],
   "source": [
    "## Selecting Threshold values for maximum accuracy "
   ]
  },
  {
   "cell_type": "code",
   "execution_count": 29,
   "metadata": {},
   "outputs": [
    {
     "data": {
      "text/plain": [
       "[0      0.99\n",
       " 1      0.02\n",
       " 2      0.98\n",
       " 3      0.93\n",
       " 4      0.55\n",
       "        ... \n",
       " 595    0.01\n",
       " 596    0.03\n",
       " 597    0.97\n",
       " 598    0.01\n",
       " 599    0.99\n",
       " Length: 600, dtype: float64,\n",
       " 0      0.559186\n",
       " 1      0.463282\n",
       " 2      0.538202\n",
       " 3      0.509875\n",
       " 4      0.490344\n",
       "          ...   \n",
       " 595    0.461121\n",
       " 596    0.441377\n",
       " 597    0.532403\n",
       " 598    0.441720\n",
       " 599    0.559890\n",
       " Length: 600, dtype: float64,\n",
       " 0      1.0\n",
       " 1      0.0\n",
       " 2      1.0\n",
       " 3      1.0\n",
       " 4      0.0\n",
       "       ... \n",
       " 595    0.0\n",
       " 596    0.0\n",
       " 597    1.0\n",
       " 598    0.0\n",
       " 599    1.0\n",
       " Length: 600, dtype: float64,\n",
       " 0      0.991861\n",
       " 1      0.000008\n",
       " 2      0.966929\n",
       " 3      0.761539\n",
       " 4      0.779443\n",
       "          ...   \n",
       " 595    0.024239\n",
       " 596    0.000003\n",
       " 597    0.984385\n",
       " 598    0.001147\n",
       " 599    0.989540\n",
       " Length: 600, dtype: float64]"
      ]
     },
     "execution_count": 29,
     "metadata": {},
     "output_type": "execute_result"
    }
   ],
   "source": [
    "# Extraing the results into a new list\n",
    "pred = []\n",
    "\n",
    "for model in [rf_model, adb_model, dc_model, log_model]:\n",
    "    pred.append(pd.Series(model.predict_proba(Xtest)[:, 1]))\n",
    "    \n",
    "pred"
   ]
  },
  {
   "cell_type": "code",
   "execution_count": 30,
   "metadata": {},
   "outputs": [
    {
     "name": "stdout",
     "output_type": "stream",
     "text": [
      "Ensemble test ROC-AUC: 0.9848777777777779\n"
     ]
    }
   ],
   "source": [
    "# Calculating mean for the predicted values\n",
    "final_predict = pd.concat(pred, axis = 1).mean(axis = 1) # Mean for each row/ record based on the 4 models\n",
    "\n",
    "print('Ensemble test ROC-AUC: {}'.format(roc_auc_score(Ytest, final_predict)))"
   ]
  },
  {
   "cell_type": "code",
   "execution_count": 31,
   "metadata": {},
   "outputs": [
    {
     "data": {
      "text/html": [
       "<div>\n",
       "<style scoped>\n",
       "    .dataframe tbody tr th:only-of-type {\n",
       "        vertical-align: middle;\n",
       "    }\n",
       "\n",
       "    .dataframe tbody tr th {\n",
       "        vertical-align: top;\n",
       "    }\n",
       "\n",
       "    .dataframe thead th {\n",
       "        text-align: right;\n",
       "    }\n",
       "</style>\n",
       "<table border=\"1\" class=\"dataframe\">\n",
       "  <thead>\n",
       "    <tr style=\"text-align: right;\">\n",
       "      <th></th>\n",
       "      <th>0</th>\n",
       "      <th>1</th>\n",
       "      <th>2</th>\n",
       "      <th>3</th>\n",
       "    </tr>\n",
       "  </thead>\n",
       "  <tbody>\n",
       "    <tr>\n",
       "      <th>0</th>\n",
       "      <td>0.99</td>\n",
       "      <td>0.559186</td>\n",
       "      <td>1.0</td>\n",
       "      <td>0.991861</td>\n",
       "    </tr>\n",
       "    <tr>\n",
       "      <th>1</th>\n",
       "      <td>0.02</td>\n",
       "      <td>0.463282</td>\n",
       "      <td>0.0</td>\n",
       "      <td>0.000008</td>\n",
       "    </tr>\n",
       "    <tr>\n",
       "      <th>2</th>\n",
       "      <td>0.98</td>\n",
       "      <td>0.538202</td>\n",
       "      <td>1.0</td>\n",
       "      <td>0.966929</td>\n",
       "    </tr>\n",
       "    <tr>\n",
       "      <th>3</th>\n",
       "      <td>0.93</td>\n",
       "      <td>0.509875</td>\n",
       "      <td>1.0</td>\n",
       "      <td>0.761539</td>\n",
       "    </tr>\n",
       "    <tr>\n",
       "      <th>4</th>\n",
       "      <td>0.55</td>\n",
       "      <td>0.490344</td>\n",
       "      <td>0.0</td>\n",
       "      <td>0.779443</td>\n",
       "    </tr>\n",
       "    <tr>\n",
       "      <th>...</th>\n",
       "      <td>...</td>\n",
       "      <td>...</td>\n",
       "      <td>...</td>\n",
       "      <td>...</td>\n",
       "    </tr>\n",
       "    <tr>\n",
       "      <th>595</th>\n",
       "      <td>0.01</td>\n",
       "      <td>0.461121</td>\n",
       "      <td>0.0</td>\n",
       "      <td>0.024239</td>\n",
       "    </tr>\n",
       "    <tr>\n",
       "      <th>596</th>\n",
       "      <td>0.03</td>\n",
       "      <td>0.441377</td>\n",
       "      <td>0.0</td>\n",
       "      <td>0.000003</td>\n",
       "    </tr>\n",
       "    <tr>\n",
       "      <th>597</th>\n",
       "      <td>0.97</td>\n",
       "      <td>0.532403</td>\n",
       "      <td>1.0</td>\n",
       "      <td>0.984385</td>\n",
       "    </tr>\n",
       "    <tr>\n",
       "      <th>598</th>\n",
       "      <td>0.01</td>\n",
       "      <td>0.441720</td>\n",
       "      <td>0.0</td>\n",
       "      <td>0.001147</td>\n",
       "    </tr>\n",
       "    <tr>\n",
       "      <th>599</th>\n",
       "      <td>0.99</td>\n",
       "      <td>0.559890</td>\n",
       "      <td>1.0</td>\n",
       "      <td>0.989540</td>\n",
       "    </tr>\n",
       "  </tbody>\n",
       "</table>\n",
       "<p>600 rows × 4 columns</p>\n",
       "</div>"
      ],
      "text/plain": [
       "        0         1    2         3\n",
       "0    0.99  0.559186  1.0  0.991861\n",
       "1    0.02  0.463282  0.0  0.000008\n",
       "2    0.98  0.538202  1.0  0.966929\n",
       "3    0.93  0.509875  1.0  0.761539\n",
       "4    0.55  0.490344  0.0  0.779443\n",
       "..    ...       ...  ...       ...\n",
       "595  0.01  0.461121  0.0  0.024239\n",
       "596  0.03  0.441377  0.0  0.000003\n",
       "597  0.97  0.532403  1.0  0.984385\n",
       "598  0.01  0.441720  0.0  0.001147\n",
       "599  0.99  0.559890  1.0  0.989540\n",
       "\n",
       "[600 rows x 4 columns]"
      ]
     },
     "execution_count": 31,
     "metadata": {},
     "output_type": "execute_result"
    }
   ],
   "source": [
    "pd.concat(pred, axis =1)"
   ]
  },
  {
   "cell_type": "code",
   "execution_count": 32,
   "metadata": {},
   "outputs": [
    {
     "data": {
      "text/plain": [
       "0      0.885262\n",
       "1      0.120823\n",
       "2      0.871283\n",
       "3      0.800353\n",
       "4      0.454947\n",
       "         ...   \n",
       "595    0.123840\n",
       "596    0.117845\n",
       "597    0.871697\n",
       "598    0.113217\n",
       "599    0.884857\n",
       "Length: 600, dtype: float64"
      ]
     },
     "execution_count": 32,
     "metadata": {},
     "output_type": "execute_result"
    }
   ],
   "source": [
    "final_predict"
   ]
  },
  {
   "cell_type": "code",
   "execution_count": 33,
   "metadata": {},
   "outputs": [],
   "source": [
    "## Calculating the ROC Curve\n",
    "\n",
    "fpr, tpr, threshold = roc_curve(Ytest, final_predict)\n"
   ]
  },
  {
   "cell_type": "code",
   "execution_count": 34,
   "metadata": {},
   "outputs": [
    {
     "data": {
      "text/plain": [
       "array([1.91251213, 0.91251213, 0.8985034 , 0.89827475, 0.84699934,\n",
       "       0.84662833, 0.83597738, 0.83571156, 0.81320853, 0.81287124,\n",
       "       0.80489742, 0.80393711, 0.80035339, 0.7980558 , 0.76897732,\n",
       "       0.76743537, 0.75896627, 0.72887362, 0.69838469, 0.69719563,\n",
       "       0.6846569 , 0.63557343, 0.61386405, 0.61377948, 0.60096497,\n",
       "       0.56670009, 0.56235188, 0.55590767, 0.55498136, 0.55222765,\n",
       "       0.5396034 , 0.53786956, 0.48615858, 0.48544916, 0.48351868,\n",
       "       0.47264281, 0.45494674, 0.40166474, 0.3915152 , 0.38300386,\n",
       "       0.38105932, 0.37246755, 0.33845371, 0.33184818, 0.30450602,\n",
       "       0.27591982, 0.23146893, 0.20618663, 0.20240225, 0.19733682,\n",
       "       0.19640421, 0.19547016, 0.19336612, 0.14469741, 0.14348417,\n",
       "       0.12033548, 0.1203351 , 0.10498954])"
      ]
     },
     "execution_count": 34,
     "metadata": {},
     "output_type": "execute_result"
    }
   ],
   "source": [
    "threshold"
   ]
  },
  {
   "cell_type": "code",
   "execution_count": 35,
   "metadata": {},
   "outputs": [
    {
     "data": {
      "text/plain": [
       "array([0.        , 0.        , 0.        , 0.00333333, 0.00333333,\n",
       "       0.00666667, 0.00666667, 0.01      , 0.01      , 0.01333333,\n",
       "       0.01333333, 0.01666667, 0.01666667, 0.02      , 0.02      ,\n",
       "       0.02333333, 0.02333333, 0.02666667, 0.02666667, 0.03      ,\n",
       "       0.03      , 0.03666667, 0.03666667, 0.04      , 0.04      ,\n",
       "       0.05      , 0.05      , 0.05333333, 0.05333333, 0.05666667,\n",
       "       0.05666667, 0.06      , 0.06      , 0.06333333, 0.06333333,\n",
       "       0.06666667, 0.06666667, 0.08      , 0.08      , 0.08333333,\n",
       "       0.08333333, 0.09      , 0.09      , 0.09333333, 0.09333333,\n",
       "       0.10333333, 0.10333333, 0.12333333, 0.12333333, 0.13      ,\n",
       "       0.13      , 0.13333333, 0.13333333, 0.25333333, 0.25333333,\n",
       "       0.61333333, 0.61333333, 1.        ])"
      ]
     },
     "execution_count": 35,
     "metadata": {},
     "output_type": "execute_result"
    }
   ],
   "source": [
    "fpr"
   ]
  },
  {
   "cell_type": "code",
   "execution_count": 36,
   "metadata": {},
   "outputs": [
    {
     "data": {
      "text/plain": [
       "array([0.        , 0.00333333, 0.07333333, 0.07333333, 0.67      ,\n",
       "       0.67      , 0.73666667, 0.73666667, 0.8       , 0.8       ,\n",
       "       0.81      , 0.81      , 0.81333333, 0.81333333, 0.86      ,\n",
       "       0.86      , 0.87333333, 0.87333333, 0.88666667, 0.88666667,\n",
       "       0.89333333, 0.89333333, 0.90333333, 0.90333333, 0.90666667,\n",
       "       0.90666667, 0.91333333, 0.91333333, 0.91666667, 0.91666667,\n",
       "       0.92333333, 0.92333333, 0.94333333, 0.94333333, 0.94666667,\n",
       "       0.94666667, 0.95666667, 0.95666667, 0.96      , 0.96      ,\n",
       "       0.96333333, 0.96333333, 0.97      , 0.97      , 0.98      ,\n",
       "       0.98      , 0.98333333, 0.98333333, 0.98666667, 0.98666667,\n",
       "       0.99      , 0.99      , 0.99333333, 0.99333333, 0.99666667,\n",
       "       0.99666667, 1.        , 1.        ])"
      ]
     },
     "execution_count": 36,
     "metadata": {},
     "output_type": "execute_result"
    }
   ],
   "source": [
    "tpr"
   ]
  },
  {
   "cell_type": "code",
   "execution_count": 40,
   "metadata": {},
   "outputs": [
    {
     "data": {
      "text/html": [
       "<div>\n",
       "<style scoped>\n",
       "    .dataframe tbody tr th:only-of-type {\n",
       "        vertical-align: middle;\n",
       "    }\n",
       "\n",
       "    .dataframe tbody tr th {\n",
       "        vertical-align: top;\n",
       "    }\n",
       "\n",
       "    .dataframe thead th {\n",
       "        text-align: right;\n",
       "    }\n",
       "</style>\n",
       "<table border=\"1\" class=\"dataframe\">\n",
       "  <thead>\n",
       "    <tr style=\"text-align: right;\">\n",
       "      <th></th>\n",
       "      <th>Threshold</th>\n",
       "      <th>Accuracy</th>\n",
       "    </tr>\n",
       "  </thead>\n",
       "  <tbody>\n",
       "    <tr>\n",
       "      <th>36</th>\n",
       "      <td>0.454947</td>\n",
       "      <td>0.943333</td>\n",
       "    </tr>\n",
       "    <tr>\n",
       "      <th>33</th>\n",
       "      <td>0.485449</td>\n",
       "      <td>0.941667</td>\n",
       "    </tr>\n",
       "    <tr>\n",
       "      <th>44</th>\n",
       "      <td>0.304506</td>\n",
       "      <td>0.941667</td>\n",
       "    </tr>\n",
       "    <tr>\n",
       "      <th>35</th>\n",
       "      <td>0.472643</td>\n",
       "      <td>0.941667</td>\n",
       "    </tr>\n",
       "    <tr>\n",
       "      <th>45</th>\n",
       "      <td>0.275920</td>\n",
       "      <td>0.940000</td>\n",
       "    </tr>\n",
       "  </tbody>\n",
       "</table>\n",
       "</div>"
      ],
      "text/plain": [
       "    Threshold  Accuracy\n",
       "36   0.454947  0.943333\n",
       "33   0.485449  0.941667\n",
       "44   0.304506  0.941667\n",
       "35   0.472643  0.941667\n",
       "45   0.275920  0.940000"
      ]
     },
     "execution_count": 40,
     "metadata": {},
     "output_type": "execute_result"
    }
   ],
   "source": [
    "# Calculating Accuracy\n",
    "from sklearn.metrics import accuracy_score\n",
    "\n",
    "acc = []\n",
    "for th in threshold:\n",
    "    y_pred = np.where(final_predict > th, 1,0)\n",
    "    acc.append(accuracy_score(Ytest, y_pred, normalize = True))\n",
    "    \n",
    "acc = pd.concat([pd.Series(threshold), pd.Series(acc)], axis = 1)\n",
    "\n",
    "acc.columns = ['Threshold', 'Accuracy']\n",
    "acc.sort_values(by = 'Accuracy', ascending = False, inplace = True)\n",
    "acc.head()"
   ]
  },
  {
   "cell_type": "code",
   "execution_count": 49,
   "metadata": {},
   "outputs": [],
   "source": [
    "## Ploting the ROC-AUC curve\n",
    "\n",
    "def plot_roc_auc(fpr, tpr):\n",
    "    plt.plot(fpr, tpr, color = \"red\", label = 'ROC')\n",
    "    plt.plot([0,1], [0,1], color = \"black\", linestyle = '--')\n",
    "    plt.xlabel(' False Positive Rate')\n",
    "    plt.ylabel(' True Positive Rate')\n",
    "    plt.title(' Receiver Operating Characterisitcs (ROC) Curve')\n",
    "    plt.legend()\n",
    "    plt.show()"
   ]
  },
  {
   "cell_type": "code",
   "execution_count": 50,
   "metadata": {},
   "outputs": [
    {
     "data": {
      "image/png": "[encoded data removed]",
      "text/plain": [
       "<Figure size 432x288 with 1 Axes>"
      ]
     },
     "metadata": {
      "needs_background": "light"
     },
     "output_type": "display_data"
    }
   ],
   "source": [
    "plot_roc_auc(fpr, tpr)"
   ]
  }
 ],
 "metadata": {
  "kernelspec": {
   "display_name": "Python 3.7 (tensorflow)",
   "language": "python",
   "name": "tensorflow"
  },
  "language_info": {
   "codemirror_mode": {
    "name": "ipython",
    "version": 3
   },
   "file_extension": ".py",
   "mimetype": "text/x-python",
   "name": "python",
   "nbconvert_exporter": "python",
   "pygments_lexer": "ipython3",
   "version": "3.8.3"
  }
 },
 "nbformat": 4,
 "nbformat_minor": 4
}
